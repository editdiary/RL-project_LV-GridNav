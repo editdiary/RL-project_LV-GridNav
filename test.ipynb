{
 "cells": [
  {
   "cell_type": "code",
   "execution_count": 2,
   "metadata": {},
   "outputs": [
    {
     "data": {
      "image/png": "[encoded data removed]",
      "text/plain": [
       "<Figure size 1000x1000 with 1 Axes>"
      ]
     },
     "metadata": {},
     "output_type": "display_data"
    }
   ],
   "source": [
    "from environment.grid_map import GridMap\n",
    "from agent import Agent\n",
    "from scenarios.scenarios import ScenarioFactory\n",
    "from model.policy_iteration import PolicyIteration\n",
    "from lecture.gridworld_render import Renderer\n",
    "import numpy as np\n",
    "import time\n",
    "\n",
    "def test_policy_iteration():\n",
    "    # 1. 환경 초기화\n",
    "    grid_map = GridMap(size=7, padding=2, seed=40)\n",
    "    \n",
    "    # 2. 벽과 공사중인 경로 추가\n",
    "    grid_map.add_random_walls(num_walls=5)\n",
    "    grid_map.add_random_construction(num_construction=5)\n",
    "    \n",
    "    # 3. 시나리오 생성 (시나리오1 사용)\n",
    "    scenario = ScenarioFactory.create_scenario(\n",
    "        scenario_type=\"시나리오1\",\n",
    "        grid_map=grid_map,\n",
    "        agent_pos=grid_map.agent_pos\n",
    "    )\n",
    "    scenario.generate_goals()\n",
    "\n",
    "    # 4. Agent 초기화\n",
    "    agent = Agent(grid_map.agent_pos)\n",
    "    \n",
    "    # 5. Policy Iteration 초기화 및 학습\n",
    "    policy_iteration = PolicyIteration(grid_map, scenario.get_goals())\n",
    "    print(\"정책 반복 알고리즘 학습 시작...\")\n",
    "    start_time = time.time()\n",
    "    policy_iteration.train()\n",
    "    end_time = time.time()\n",
    "    print(f\"학습 완료! 소요 시간: {end_time - start_time:.2f}초\")\n",
    "    \n",
    "    # 6. 학습된 정책으로 Agent 이동 테스트\n",
    "    print(\"\\n=== 학습된 정책으로 Agent 이동 테스트 ===\")\n",
    "    max_steps = 100\n",
    "    step = 0\n",
    "    \n",
    "    # Renderer 초기화\n",
    "    reward_map = np.zeros((grid_map.padded_size, grid_map.padded_size))\n",
    "    for goal in scenario.get_goals():\n",
    "        reward_map[goal] = 1.0  # 목표 지점에 보상 1.0 부여\n",
    "    \n",
    "    renderer = Renderer(\n",
    "        reward_map=reward_map,\n",
    "        goal_state=scenario.get_goals()[0],  # 첫 번째 목표 지점\n",
    "        wall_state=None  # 벽은 시각화에서 별도로 처리\n",
    "    )\n",
    "    \n",
    "    while step < max_steps:\n",
    "        # 현재 상태 시각화\n",
    "        renderer.render_v(v=policy_iteration.get_value_function(), policy=policy_iteration.get_policy())\n",
    "        \n",
    "        # 목표 도달 확인\n",
    "        if agent.pos in scenario.get_goals():\n",
    "            print(f\"\\n목표에 도달했습니다! 걸음 수: {step}\")\n",
    "            break\n",
    "        \n",
    "        # 학습된 정책에 따라 행동 선택\n",
    "        action = policy_iteration.get_action(agent.pos)\n",
    "        print(f\"\\nStep {step + 1}: {action.name} 방향으로 이동\")\n",
    "        \n",
    "        # Agent 이동\n",
    "        old_pos = agent.pos\n",
    "        new_pos = agent.move(action)\n",
    "        print(f\"이전 위치: {old_pos}\")\n",
    "        print(f\"새로운 위치: {new_pos}\")\n",
    "        \n",
    "        # 같은 위치에 머무는 경우 (벽이나 공사중인 경로에 부딪힌 경우)\n",
    "        if old_pos == new_pos:\n",
    "            print(\"이동할 수 없는 위치입니다.\")\n",
    "        \n",
    "        step += 1\n",
    "        time.sleep(0.1)  # 시각화 간격 조절\n",
    "    \n",
    "    if step >= max_steps:\n",
    "        print(\"\\n최대 걸음 수에 도달했습니다.\")\n",
    "\n",
    "if __name__ == \"__main__\":\n",
    "    test_policy_iteration()"
   ]
  },
  {
   "cell_type": "code",
   "execution_count": null,
   "metadata": {},
   "outputs": [],
   "source": [
    "\"\"\"\n",
    "나는 이렇게 agent가 움직일 수 있는 환경과 시나리오를 정의하였어. 나는 강화학습 프로젝트를 진행하고 있어. 시나리오에 따라 특정 목표로 움직일 수 있는 agent를 학습 시키는 게 목표야. 내 목표는 agent가 자신의 현재 상태(state)를 기준으로 움직일 곳을 판단해서 목표 지점까지 움직일 수 있도록 하는 거야. 단, 여기서 state를 정의하는 부분이 일반적인 grid world와는 차이가 있어. agent는 자신을 중심으로 5x5 크기의 주변 환경만 '볼 수 있어'. 즉, 전체 map의 정보는 모른채 목표 지점만 알고 있는 상태로, 주변 환경을 보면서 목표를 찾아서 가야하지. 그리고 시나리오에 따라 목표가 달라질 수도 있어. 시나리오1은 목표 지점 1곳을 최단시간에 찾아가야 하지. 시나리오2는 여러 목표 지점 중 가장 가까운 지점을 찾아서 가면 돼. 시나리오3은 정해진 목표 지점을 모두 도달해야 하지.\n",
    "내 프로젝트의 핵심은 '시나리오에 따라 변화하는 목표를 인지하고 자신의 주변 환경을 인식한채로 목표를 수행하는 agent를 학습하는 거야.'\n",
    "여기까지 내 프로제트에 대해 이해했어?\n",
    "\"\"\""
   ]
  },
  {
   "cell_type": "code",
   "execution_count": null,
   "metadata": {},
   "outputs": [],
   "source": []
  }
 ],
 "metadata": {
  "kernelspec": {
   "display_name": "py311",
   "language": "python",
   "name": "python3"
  },
  "language_info": {
   "codemirror_mode": {
    "name": "ipython",
    "version": 3
   },
   "file_extension": ".py",
   "mimetype": "text/x-python",
   "name": "python",
   "nbconvert_exporter": "python",
   "pygments_lexer": "ipython3",
   "version": "3.11.11"
  }
 },
 "nbformat": 4,
 "nbformat_minor": 2
}
